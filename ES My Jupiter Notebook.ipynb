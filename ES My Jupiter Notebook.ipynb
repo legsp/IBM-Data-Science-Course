{
 "cells": [
  {
   "cell_type": "markdown",
   "id": "48b80168-47e9-4a70-8193-0d42aee34b03",
   "metadata": {},
   "source": [
    "# My Jupyter Notebook on IBM Watson Studio"
   ]
  },
  {
   "cell_type": "markdown",
   "id": "aacadb2d-7fc7-4641-ad40-251c6e4a65f7",
   "metadata": {},
   "source": [
    "__Erika Smidt__\n",
    "<br> Technical Analyst for the Brazilian Health Regulatory Agency"
   ]
  },
  {
   "cell_type": "markdown",
   "id": "7b82304d-1431-44bf-b424-c17bb241a507",
   "metadata": {},
   "source": [
    "_I am interested in data science because I believe it can help me reestructure the way we manage resources at my workplace. Moreover, I believe it can help save time and resources by giving us insights into potential problem areas and bottlenecks in our processes._\n"
   ]
  },
  {
   "cell_type": "markdown",
   "id": "a49e4663-b1e8-4bbf-a4b5-e4c645f93462",
   "metadata": {},
   "source": [
    "### Add one plus one"
   ]
  },
  {
   "cell_type": "code",
   "execution_count": 2,
   "id": "9fa5fb7b-068a-48f5-8934-4de4faf578bc",
   "metadata": {},
   "outputs": [
    {
     "data": {
      "text/plain": [
       "2"
      ]
     },
     "execution_count": 2,
     "metadata": {},
     "output_type": "execute_result"
    }
   ],
   "source": [
    "1+1"
   ]
  },
  {
   "cell_type": "markdown",
   "id": "c8143a24-9ace-4f3f-990e-240316b07526",
   "metadata": {},
   "source": [
    "This notebook contains the following examples:\n",
    "* Python codes being ran\n",
    "* Markdown cells\n",
    "\n",
    "___\n",
    "\n",
    "It also has examples of HTML formatting\n",
    "\n",
    "__[I gathered resources from this weblink](https://www.ibm.com/docs/en/db2-event-store/2.0.0?topic=notebooks-markdown-jupyter-cheatsheet)__"
   ]
  },
  {
   "cell_type": "code",
   "execution_count": null,
   "id": "3fd4cf2c-b4a4-469d-95c8-c26da4c93b4e",
   "metadata": {},
   "outputs": [],
   "source": []
  }
 ],
 "metadata": {
  "kernelspec": {
   "display_name": "Python",
   "language": "python",
   "name": "conda-env-python-py"
  },
  "language_info": {
   "codemirror_mode": {
    "name": "ipython",
    "version": 3
   },
   "file_extension": ".py",
   "mimetype": "text/x-python",
   "name": "python",
   "nbconvert_exporter": "python",
   "pygments_lexer": "ipython3",
   "version": "3.7.12"
  }
 },
 "nbformat": 4,
 "nbformat_minor": 5
}
